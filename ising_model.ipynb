import numpy as np
import matplotlib.pyplot as plt

size = 100               # ising model size(100*100)
repeat_num = 100        # repeat number
#kB = 1.38 * pow(10,-8)   # boltzmann factor
#T = 300                  # temperature
#J = pow(10,-10)           # magnetism factor

filter = np.array([[0, 1, 0],
                   [1, 0, 1],
                   [0, 1, 0]])

# initial ising model 구성
ising_model = np.zeros((size,size))
for i in range(size):
    for j in range(size):
        a = np.random.rand()
        if a < 0.5:        # initial probability
            ising_model[i][j] = 1 # spin up
        else:
            ising_model[i][j] = -1 # spin down
            
fig, ax = plt.subplots(1, figsize = (3,3))
ax.set_axis_off()
ax.imshow(ising_model, cmap = 'gray')
plt.show()

# particle interaction about the nearest particles
x_scale = np.random.choice(size-2, size-2, replace=False)
y_scale = np.random.choice(size-2, size-2, replace=False)

scale = []
for i in range(size-2):
    for j in range(size-2):
        scale.append(np.array([y_scale[i], x_scale[j]]))
scale = np.array(scale)

for num in range(repeat_num):
    np.random.shuffle(scale)
    
    # sub ising model about each particle
    for k in range(pow(size-2,2)):
        
        sub_ising_model = np.zeros((3,3))
        for i in range(3):
            for j in range(3):
                sub_ising_model[i][j] = ising_model[i+scale[k][0]][j+scale[k][1]]
                
        # each particle interaction
        refine = 0
        for i in range(3):
            for j in range(3):
                refine += sub_ising_model[i][j] * filter[i][j]
        dE = 2 * sub_ising_model[1][1] * refine
        
        if dE < 0:
            ising_model[1+scale[k][0]][1+scale[k][1]] = sub_ising_model[1][1] * (-1)    # spin change
        else:
            k3 = np.random.rand()
            if k3 < np.exp(-1*dE):
                ising_model[1+scale[k][0]][1+scale[k][1]] = sub_ising_model[1][1] * (-1)  # spin change
            else:
                ising_model[1+scale[k][0]][1+scale[k][1]] = sub_ising_model[1][1]       # spin no change

    if num % 10 == 9 or num == 0:
        print('%ith ising model\n' % (num+1))
        fig, ax = plt.subplots(1, figsize = (3,3))
        ax.set_axis_off()
        ax.imshow(ising_model, cmap = 'gray')
        plt.show()
